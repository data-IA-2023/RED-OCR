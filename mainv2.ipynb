{
 "cells": [
  {
   "cell_type": "code",
   "execution_count": 1,
   "metadata": {},
   "outputs": [],
   "source": [
    "import requests\n",
    "import os\n",
    "from dotenv import load_dotenv\n",
    "from array import array\n",
    "from PIL import Image\n",
    "import sys\n",
    "import time\n",
    "from azure.cognitiveservices.vision.computervision import ComputerVisionClient\n",
    "from azure.cognitiveservices.vision.computervision.models import OperationStatusCodes\n",
    "from azure.cognitiveservices.vision.computervision.models import VisualFeatureTypes\n",
    "from msrest.authentication import CognitiveServicesCredentials"
   ]
  },
  {
   "cell_type": "code",
   "execution_count": 2,
   "metadata": {},
   "outputs": [
    {
     "data": {
      "text/plain": [
       "True"
      ]
     },
     "execution_count": 2,
     "metadata": {},
     "output_type": "execute_result"
    }
   ],
   "source": [
    "load_dotenv()"
   ]
  },
  {
   "cell_type": "code",
   "execution_count": 3,
   "metadata": {},
   "outputs": [],
   "source": [
    "url = \"https://invoiceocrp3.azurewebsites.net/invoices\"\n",
    "\n",
    "headers = {\n",
    "    \"accept\": \"application/json\"\n",
    "}"
   ]
  },
  {
   "cell_type": "code",
   "execution_count": 4,
   "metadata": {},
   "outputs": [],
   "source": [
    "data = []"
   ]
  },
  {
   "cell_type": "code",
   "execution_count": 5,
   "metadata": {},
   "outputs": [],
   "source": [
    "response = requests.get(url, headers=headers)\n",
    "data = response.json()\n",
    "data = data.get('invoices')"
   ]
  },
  {
   "cell_type": "code",
   "execution_count": 6,
   "metadata": {},
   "outputs": [
    {
     "name": "stdout",
     "output_type": "stream",
     "text": [
      "2020-10-18 05:00:00 {'no': 'FAC_2020_0823-2487', 'dt': '2020-10-18 05:00:00'}\n",
      "2021-07-24 00:09:00 {'no': 'FAC_2021_0641-519400', 'dt': '2021-07-24 00:09:00'}\n",
      "2022-05-26 23:53:00 {'no': 'FAC_2022_0474-6057400', 'dt': '2022-05-26 23:53:00'}\n",
      "2023-03-28 16:10:00 {'no': 'FAC_2023_0295-359724', 'dt': '2023-03-28 16:10:00'}\n",
      "2024-02-08 06:03:00 {'no': 'FAC_2024_0122-4602818', 'dt': '2024-02-08 06:03:00'}\n",
      "2024-03-24 23:21:00 {'no': 'FAC_2024_0282-2533050', 'dt': '2024-03-24 23:21:00'}\n"
     ]
    }
   ],
   "source": [
    "lastDate = data[-1]['dt']\n",
    "flag = False\n",
    "while not flag : \n",
    "    urldata  = f\"https://invoiceocrp3.azurewebsites.net/invoices?start_date={lastDate}\"\n",
    "    responseData = requests.get(urldata, headers=headers)\n",
    "    if responseData.status_code == 200:\n",
    "            adddata = responseData.json()\n",
    "            adddata = adddata.get('invoices')\n",
    "            if len(adddata) == 0:\n",
    "                flag = True\n",
    "            else:\n",
    "                data.extend(adddata)\n",
    "                lastDate = data[-1]['dt']\n",
    "                print(lastDate,data[-1])\n",
    "    else :\n",
    "        print(f\"Erreur: {response.status_code} - {response.reason}\") \n",
    "        flag = True"
   ]
  },
  {
   "cell_type": "code",
   "execution_count": 8,
   "metadata": {},
   "outputs": [
    {
     "name": "stdout",
     "output_type": "stream",
     "text": [
      "FAC_2019_0005-1869518\n",
      "6165\n"
     ]
    }
   ],
   "source": [
    "print(data[5]['no'])\n",
    "print(len(data))"
   ]
  },
  {
   "cell_type": "code",
   "execution_count": 9,
   "metadata": {},
   "outputs": [
    {
     "data": {
      "text/plain": [
       "'\\nEND - Authenticate\\n'"
      ]
     },
     "execution_count": 9,
     "metadata": {},
     "output_type": "execute_result"
    }
   ],
   "source": [
    "'''\n",
    "Authenticate\n",
    "Authenticates your credentials and creates a client.\n",
    "'''\n",
    "subscription_key = os.environ[\"VISION_KEY\"]\n",
    "endpoint = os.environ[\"VISION_ENDPOINT\"]\n",
    "\n",
    "computervision_client = ComputerVisionClient(endpoint, CognitiveServicesCredentials(subscription_key))\n",
    "'''\n",
    "END - Authenticate\n",
    "'''"
   ]
  },
  {
   "cell_type": "code",
   "execution_count": 10,
   "metadata": {},
   "outputs": [
    {
     "name": "stdout",
     "output_type": "stream",
     "text": [
      "===== Read File - remote =====\n"
     ]
    }
   ],
   "source": [
    "\n",
    "'''\n",
    "OCR: Read File using the Read API, extract text - remote\n",
    "This example will extract text in an image, then print results, line by line.\n",
    "This API call can also extract handwriting style text (not shown).\n",
    "'''\n",
    "print(\"===== Read File - remote =====\")\n",
    "# Get an image with text\n",
    "read_image_url = f\"https://invoiceocrp3.azurewebsites.net/invoices/{data[5]['no']}\"\n",
    "\n",
    "# Call API with URL and raw response (allows you to get the operation location)\n",
    "read_response = computervision_client.read(read_image_url,  raw=True)\n",
    "\n",
    "# Get the operation location (URL with an ID at the end) from the response\n",
    "read_operation_location = read_response.headers[\"Operation-Location\"]\n",
    "# Grab the ID from the URL\n",
    "operation_id = read_operation_location.split(\"/\")[-1]\n",
    "\n",
    "count = 0\n",
    "# Call the \"GET\" API and wait for it to retrieve the results \n",
    "while True:\n",
    "    read_result = computervision_client.get_read_result(operation_id)\n",
    "    if read_result.status not in ['notStarted', 'running']:\n",
    "        break\n",
    "    time.sleep(1)"
   ]
  },
  {
   "cell_type": "code",
   "execution_count": 32,
   "metadata": {},
   "outputs": [
    {
     "name": "stdout",
     "output_type": "stream",
     "text": [
      "===== Read File - remote =====\n",
      "INVOICE FAC_2019_0005\n",
      "[18.0, 19.0, 303.0, 19.0, 303.0, 43.0, 18.0, 42.0]\n",
      "2\n",
      "Issue date 2019-01-03 22:10:00\n",
      "[21.0, 49.0, 309.0, 48.0, 309.0, 70.0, 21.0, 71.0]\n",
      "4\n",
      "Bill to Victoria Parker\n",
      "[19.0, 80.0, 198.0, 80.0, 198.0, 99.0, 19.0, 98.0]\n",
      "6\n",
      "Brilllling\n",
      "[738.0, 94.0, 809.0, 75.0, 812.0, 91.0, 742.0, 112.0]\n",
      "8\n",
      "Address USCGC Park\n",
      "[17.0, 119.0, 132.0, 119.0, 132.0, 132.0, 17.0, 131.0]\n",
      "10\n",
      "FPO AE 88629\n",
      "[18.0, 132.0, 100.0, 133.0, 100.0, 145.0, 18.0, 145.0]\n",
      "12\n",
      "Dolores amet et natus.\n",
      "[39.0, 200.0, 233.0, 200.0, 233.0, 219.0, 39.0, 219.0]\n",
      "14\n",
      "4 x\n",
      "[510.0, 201.0, 552.0, 203.0, 551.0, 218.0, 510.0, 217.0]\n",
      "16\n",
      "59.13 Euro\n",
      "[567.0, 201.0, 691.0, 202.0, 690.0, 219.0, 567.0, 217.0]\n",
      "18\n",
      "Reprehenderit quae veritatis enim.\n",
      "[39.0, 220.0, 332.0, 220.0, 332.0, 241.0, 39.0, 240.0]\n",
      "20\n",
      "9 x\n",
      "[510.0, 221.0, 552.0, 223.0, 553.0, 239.0, 510.0, 238.0]\n",
      "22\n",
      "76.39 Euro\n",
      "[569.0, 220.0, 690.0, 222.0, 689.0, 239.0, 568.0, 237.0]\n",
      "24\n",
      "Fugit voluptatum fuga molestiae.\n",
      "[39.0, 240.0, 322.0, 240.0, 322.0, 260.0, 39.0, 261.0]\n",
      "26\n",
      "2 x\n",
      "[509.0, 242.0, 553.0, 243.0, 553.0, 259.0, 509.0, 258.0]\n",
      "28\n",
      "99.70 Euro\n",
      "[571.0, 241.0, 690.0, 242.0, 690.0, 258.0, 571.0, 257.0]\n",
      "30\n",
      "Etudier faible foule certain.\n",
      "[39.0, 260.0, 270.0, 260.0, 270.0, 280.0, 39.0, 280.0]\n",
      "32\n",
      "7 x\n",
      "[510.0, 261.0, 553.0, 262.0, 552.0, 278.0, 510.0, 278.0]\n",
      "34\n",
      "49.95 Euro\n",
      "[571.0, 261.0, 690.0, 262.0, 690.0, 278.0, 571.0, 277.0]\n",
      "36\n",
      "Caractère sein erreur faute.\n",
      "[38.0, 280.0, 273.0, 280.0, 273.0, 299.0, 38.0, 299.0]\n",
      "38\n",
      "6 x\n",
      "[512.0, 281.0, 552.0, 282.0, 552.0, 297.0, 512.0, 297.0]\n",
      "40\n",
      "31.32 Euro\n",
      "[569.0, 280.0, 692.0, 282.0, 691.0, 298.0, 569.0, 296.0]\n",
      "42\n",
      "TOTAL\n",
      "[37.0, 309.0, 103.0, 310.0, 103.0, 330.0, 37.0, 329.0]\n",
      "44\n",
      "1661.00 Euro\n",
      "[546.0, 310.0, 691.0, 311.0, 691.0, 328.0, 546.0, 328.0]\n",
      "46\n",
      "\n",
      "End of Computer Vision quickstart.\n"
     ]
    }
   ],
   "source": [
    "# Print the detected text, line by line\n",
    "if read_result.status == OperationStatusCodes.succeeded:\n",
    "    for text_result in read_result.analyze_result.read_results:\n",
    "        for line in text_result.lines: \n",
    "            print(line.text)\n",
    "            print(line.bounding_box)\n",
    "print()\n",
    "'''\n",
    "END - Read File - remote\n",
    "'''\n",
    "\n",
    "print(\"End of Computer Vision quickstart.\")"
   ]
  },
  {
   "cell_type": "code",
   "execution_count": null,
   "metadata": {},
   "outputs": [],
   "source": [
    "text_result.lines"
   ]
  },
  {
   "cell_type": "code",
   "execution_count": 39,
   "metadata": {},
   "outputs": [],
   "source": [
    "donnees_lignes = { 'facture' : \n",
    "    {\"text\": ligne.text, \"bounding_box\": ligne.bounding_box}\n",
    "    for ligne in  text_result.lines\n",
    "}"
   ]
  },
  {
   "cell_type": "code",
   "execution_count": 41,
   "metadata": {},
   "outputs": [],
   "source": [
    "donnees_lignes = {}\n",
    "\n",
    "# Itérez à travers chaque objet de ligne avec un index\n",
    "for index, ligne_objet in enumerate( text_result.lines):\n",
    "    # Créez un dictionnaire pour stocker les données de cette ligne\n",
    "    donnees_ligne = {\n",
    "        \"text\": ligne_objet.text,\n",
    "        \"bounding_box\": ligne_objet.bounding_box,\n",
    "        # Ajoutez plus d'attributs selon vos besoins\n",
    "    }\n",
    "    \n",
    "    # Utilisez l'index comme identifiant unique pour chaque ligne\n",
    "    identifiant_ligne = f\"ligne_{index}\"\n",
    "    \n",
    "    # Stockez les données de cette ligne dans le dictionnaire principal avec l'identifiant comme clé\n",
    "    donnees_lignes[identifiant_ligne] = donnees_ligne\n",
    "\n",
    "# Maintenant, donnees_lignes est un dictionnaire où chaque clé est un identifiant de ligne unique et chaque valeur est un dictionnaire contenant les données de la ligne correspondante"
   ]
  },
  {
   "cell_type": "code",
   "execution_count": null,
   "metadata": {},
   "outputs": [],
   "source": [
    "donnees_lignes"
   ]
  },
  {
   "cell_type": "code",
   "execution_count": 34,
   "metadata": {},
   "outputs": [
    {
     "name": "stdout",
     "output_type": "stream",
     "text": [
      "{'FAC_2019_0002-521208': []}\n",
      "{'FAC_2019_0001-112650': []}\n",
      "{'FAC_2019_0003-4174848': []}\n"
     ]
    },
    {
     "ename": "KeyboardInterrupt",
     "evalue": "",
     "output_type": "error",
     "traceback": [
      "\u001b[1;31m---------------------------------------------------------------------------\u001b[0m",
      "\u001b[1;31mKeyboardInterrupt\u001b[0m                         Traceback (most recent call last)",
      "Cell \u001b[1;32mIn[34], line 24\u001b[0m\n\u001b[0;32m     22\u001b[0m     \u001b[38;5;28;01mif\u001b[39;00m read_result\u001b[38;5;241m.\u001b[39mstatus \u001b[38;5;129;01mnot\u001b[39;00m \u001b[38;5;129;01min\u001b[39;00m [\u001b[38;5;124m'\u001b[39m\u001b[38;5;124mnotStarted\u001b[39m\u001b[38;5;124m'\u001b[39m, \u001b[38;5;124m'\u001b[39m\u001b[38;5;124mrunning\u001b[39m\u001b[38;5;124m'\u001b[39m]:\n\u001b[0;32m     23\u001b[0m         \u001b[38;5;28;01mbreak\u001b[39;00m\n\u001b[1;32m---> 24\u001b[0m     time\u001b[38;5;241m.\u001b[39msleep(\u001b[38;5;241m1\u001b[39m)\n\u001b[0;32m     26\u001b[0m facture \u001b[38;5;241m=\u001b[39m { data[row][\u001b[38;5;124m'\u001b[39m\u001b[38;5;124mno\u001b[39m\u001b[38;5;124m'\u001b[39m]: []}\n\u001b[0;32m     27\u001b[0m \u001b[38;5;28mprint\u001b[39m(facture)\n",
      "\u001b[1;31mKeyboardInterrupt\u001b[0m: "
     ]
    }
   ],
   "source": [
    "for row in range(len(data)) :\n",
    "    '''\n",
    "    OCR: Read File using the Read API, extract text - remote\n",
    "    This example will extract text in an image, then print results, line by line.\n",
    "    This API call can also extract handwriting style text (not shown).\n",
    "    '''\n",
    "    # Get an image with text\n",
    "    read_image_url = f\"https://invoiceocrp3.azurewebsites.net/invoices/{data[row]['no']}\"\n",
    "\n",
    "    # Call API with URL and raw response (allows you to get the operation location)\n",
    "    read_response = computervision_client.read(read_image_url,  raw=True)\n",
    "\n",
    "    # Get the operation location (URL with an ID at the end) from the response\n",
    "    read_operation_location = read_response.headers[\"Operation-Location\"]\n",
    "    # Grab the ID from the URL\n",
    "    operation_id = read_operation_location.split(\"/\")[-1]\n",
    "\n",
    "    count = 0\n",
    "    # Call the \"GET\" API and wait for it to retrieve the results \n",
    "    while True:\n",
    "        read_result = computervision_client.get_read_result(operation_id)\n",
    "        if read_result.status not in ['notStarted', 'running']:\n",
    "            break\n",
    "        time.sleep(1)\n",
    "\n",
    "    facture_dict = {}\n",
    "    facture = { data[row]['no']: []}\n",
    "    facture_dict.append(facture)\n",
    "    print(facture)\n",
    "    \"\"\"if read_result.status == OperationStatusCodes.succeeded:\n",
    "        for text_result in read_result.analyze_result.read_results:\n",
    "    # Itérez à travers chaque objet de ligne\n",
    "            for ligne_objet in text_result.lines:\n",
    "            # Créez un dictionnaire pour stocker les données de cette ligne\n",
    "                    donnees_ligne = {\n",
    "                        \"text\": ligne_objet.text,\n",
    "                        \"bounding_box\": ligne_objet.bounding_box,\n",
    "                        # Ajoutez plus d'attributs selon vos besoins\n",
    "                    }\n",
    "                    \n",
    "                    # Ajoutez les données de cette ligne à la liste correspondante dans le dictionnaire principal\n",
    "                    print(donnees_ligne)\n",
    "                    facture[data[row]['no']].append(donnees_ligne)\"\"\"\n",
    "    \n",
    "\n",
    "            # Maintenant, donnees_lignes contient un dictionnaire avec une seule clé \"toutes_les_lignes\" qui contient une liste de tous les dictionnaires de données de ligne"
   ]
  },
  {
   "cell_type": "code",
   "execution_count": 35,
   "metadata": {},
   "outputs": [
    {
     "data": {
      "text/plain": [
       "{'FAC_2019_0003-4174848': []}"
      ]
     },
     "execution_count": 35,
     "metadata": {},
     "output_type": "execute_result"
    }
   ],
   "source": [
    "facture"
   ]
  }
 ],
 "metadata": {
  "kernelspec": {
   "display_name": "redocr",
   "language": "python",
   "name": "python3"
  },
  "language_info": {
   "codemirror_mode": {
    "name": "ipython",
    "version": 3
   },
   "file_extension": ".py",
   "mimetype": "text/x-python",
   "name": "python",
   "nbconvert_exporter": "python",
   "pygments_lexer": "ipython3",
   "version": "3.11.8"
  }
 },
 "nbformat": 4,
 "nbformat_minor": 2
}
